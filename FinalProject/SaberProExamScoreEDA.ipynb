{
 "cells": [
  {
   "cell_type": "markdown",
   "metadata": {},
   "source": [
    "# Final Project\n",
    "## Julian Sarmiento 20231678027 - Miller Barahona 20231678032\n",
    "### Description"
   ]
  },
  {
   "cell_type": "markdown",
   "metadata": {},
   "source": [
    "<div class=\"alert alert-warning alert-dismissible fade show\" role=\"alert\">\n",
    "  <strong>👀👀👀 ⚠️ IMPORTANT ⚠️ 👀👀👀</strong> \n",
    "  <br>\n",
    "  It's important to execute the code containing the request to download the original data set.\n",
    "  <br>\n",
    "  <strong>You can set the limit of data you want to bring by changing the value of the variable “limit”. </strong>\n",
    "</div>"
   ]
  },
  {
   "cell_type": "markdown",
   "metadata": {},
   "source": [
    "<div class=\"alert alert-info\" role=\"alert\">\n",
    "  If the url does not work or is not available at run time you can get a default data set of 100.000 rows. <a href=\"https://udistritaleduco-my.sharepoint.com/:f:/g/personal/jasarmientol_udistrital_edu_co/EttvUqPNJP1OkFo5gXXJ3KUBb89G4Ftfk-bQOH5ZxykZbQ?e=g1m4mK\" class=\"alert-link\">Give it a click to obtain DataSet</a>."
   ]
  },
  {
   "cell_type": "code",
   "execution_count": 2,
   "metadata": {},
   "outputs": [],
   "source": [
    "import requests\n",
    "\n",
    "limit = 100000\n",
    "\n",
    "url = f'https://www.datos.gov.co/resource/u37r-hjmu.csv?$limit={limit}&$offset=1'\n",
    "\n",
    "filename = 'SaberProDataSet.csv'\n",
    "\n",
    "response = requests.get(url)\n",
    "\n",
    "if response.status_code == 200:\n",
    "    with open(filename, 'wb') as file:\n",
    "        file.write(response.content)\n",
    "else:\n",
    "    print(f'Error to download file: {response.status_code}')\n"
   ]
  }
 ],
 "metadata": {
  "kernelspec": {
   "display_name": "Python 3",
   "language": "python",
   "name": "python3"
  },
  "language_info": {
   "codemirror_mode": {
    "name": "ipython",
    "version": 3
   },
   "file_extension": ".py",
   "mimetype": "text/x-python",
   "name": "python",
   "nbconvert_exporter": "python",
   "pygments_lexer": "ipython3",
   "version": "3.12.7"
  }
 },
 "nbformat": 4,
 "nbformat_minor": 2
}
